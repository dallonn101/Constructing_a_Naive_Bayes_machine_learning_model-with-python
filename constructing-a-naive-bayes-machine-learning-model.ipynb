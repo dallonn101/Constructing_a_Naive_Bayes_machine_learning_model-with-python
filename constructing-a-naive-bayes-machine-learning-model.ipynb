{
 "cells": [
  {
   "cell_type": "code",
   "execution_count": 1,
   "id": "819d0d8e",
   "metadata": {
    "_cell_guid": "b1076dfc-b9ad-4769-8c92-a6c4dae69d19",
    "_uuid": "8f2839f25d086af736a60e9eeb907d3b93b6e0e5",
    "execution": {
     "iopub.execute_input": "2023-12-25T19:15:13.731589Z",
     "iopub.status.busy": "2023-12-25T19:15:13.730384Z",
     "iopub.status.idle": "2023-12-25T19:15:16.241051Z",
     "shell.execute_reply": "2023-12-25T19:15:16.237899Z"
    },
    "papermill": {
     "duration": 2.520585,
     "end_time": "2023-12-25T19:15:16.244215",
     "exception": false,
     "start_time": "2023-12-25T19:15:13.723630",
     "status": "completed"
    },
    "tags": []
   },
   "outputs": [
    {
     "name": "stdout",
     "output_type": "stream",
     "text": [
      "/kaggle/input/naive-bayes-gaussian/SP_II_MN.csv\n"
     ]
    }
   ],
   "source": [
    "# This Python 3 environment comes with many helpful analytics libraries installed\n",
    "# It is defined by the kaggle/python Docker image: https://github.com/kaggle/docker-python\n",
    "# For example, here's several helpful packages to load\n",
    "\n",
    "import numpy as np # linear algebra\n",
    "import pandas as pd\n",
    "\n",
    "from sklearn.model_selection import train_test_split\n",
    "from sklearn.naive_bayes import GaussianNB\n",
    "\n",
    "from sklearn.metrics import recall_score, precision_score, f1_score, accuracy_score\n",
    "from sklearn.metrics import confusion_matrix, ConfusionMatrixDisplay\n",
    "\n",
    "\n",
    "# data processing, CSV file I/O (e.g. pd.read_csv)\n",
    "\n",
    "# Input data files are available in the read-only \"../input/\" directory\n",
    "# For example, running this (by clicking run or pressing Shift+Enter) will list all files under the input directory\n",
    "\n",
    "import os\n",
    "for dirname, _, filenames in os.walk('/kaggle/input'):\n",
    "    for filename in filenames:\n",
    "        print(os.path.join(dirname, filename))\n",
    "\n",
    "# You can write up to 20GB to the current directory (/kaggle/working/) that gets preserved as output when you create a version using \"Save & Run All\" \n",
    "# You can also write temporary files to /kaggle/temp/, but they won't be saved outside of the current session"
   ]
  },
  {
   "cell_type": "markdown",
   "id": "a0e316a3",
   "metadata": {
    "papermill": {
     "duration": 0.004089,
     "end_time": "2023-12-25T19:15:16.253126",
     "exception": false,
     "start_time": "2023-12-25T19:15:16.249037",
     "status": "completed"
    },
    "tags": []
   },
   "source": [
    "This is a Gaussian Naive Bayes Machine Learning algorithm model that predict the number of Customer who churned from a given bank dataset.\n",
    "\n",
    "NB: Customer churn is a business term used to describe the number of customers and the rate at which a company loses customers using their products and services or stop doing business with them entirely."
   ]
  },
  {
   "cell_type": "code",
   "execution_count": 2,
   "id": "0ed08886",
   "metadata": {
    "execution": {
     "iopub.execute_input": "2023-12-25T19:15:16.263767Z",
     "iopub.status.busy": "2023-12-25T19:15:16.263146Z",
     "iopub.status.idle": "2023-12-25T19:15:16.342706Z",
     "shell.execute_reply": "2023-12-25T19:15:16.341873Z"
    },
    "papermill": {
     "duration": 0.087852,
     "end_time": "2023-12-25T19:15:16.345310",
     "exception": false,
     "start_time": "2023-12-25T19:15:16.257458",
     "status": "completed"
    },
    "tags": []
   },
   "outputs": [
    {
     "data": {
      "text/html": [
       "<div>\n",
       "<style scoped>\n",
       "    .dataframe tbody tr th:only-of-type {\n",
       "        vertical-align: middle;\n",
       "    }\n",
       "\n",
       "    .dataframe tbody tr th {\n",
       "        vertical-align: top;\n",
       "    }\n",
       "\n",
       "    .dataframe thead th {\n",
       "        text-align: right;\n",
       "    }\n",
       "</style>\n",
       "<table border=\"1\" class=\"dataframe\">\n",
       "  <thead>\n",
       "    <tr style=\"text-align: right;\">\n",
       "      <th></th>\n",
       "      <th>ID</th>\n",
       "      <th>Score</th>\n",
       "      <th>Sex</th>\n",
       "      <th>Age</th>\n",
       "      <th>Authority</th>\n",
       "      <th>Money</th>\n",
       "      <th>Product no</th>\n",
       "      <th>Balance (estimated)</th>\n",
       "      <th>Exited</th>\n",
       "    </tr>\n",
       "  </thead>\n",
       "  <tbody>\n",
       "    <tr>\n",
       "      <th>0</th>\n",
       "      <td>15634602</td>\n",
       "      <td>619</td>\n",
       "      <td>0</td>\n",
       "      <td>42</td>\n",
       "      <td>2</td>\n",
       "      <td>0.00</td>\n",
       "      <td>1</td>\n",
       "      <td>101348.88</td>\n",
       "      <td>1</td>\n",
       "    </tr>\n",
       "    <tr>\n",
       "      <th>1</th>\n",
       "      <td>15647311</td>\n",
       "      <td>608</td>\n",
       "      <td>0</td>\n",
       "      <td>41</td>\n",
       "      <td>1</td>\n",
       "      <td>83807.86</td>\n",
       "      <td>1</td>\n",
       "      <td>112542.58</td>\n",
       "      <td>0</td>\n",
       "    </tr>\n",
       "    <tr>\n",
       "      <th>2</th>\n",
       "      <td>15619304</td>\n",
       "      <td>502</td>\n",
       "      <td>0</td>\n",
       "      <td>42</td>\n",
       "      <td>8</td>\n",
       "      <td>159660.80</td>\n",
       "      <td>3</td>\n",
       "      <td>113931.57</td>\n",
       "      <td>1</td>\n",
       "    </tr>\n",
       "    <tr>\n",
       "      <th>3</th>\n",
       "      <td>15701354</td>\n",
       "      <td>699</td>\n",
       "      <td>0</td>\n",
       "      <td>39</td>\n",
       "      <td>1</td>\n",
       "      <td>0.00</td>\n",
       "      <td>2</td>\n",
       "      <td>93826.63</td>\n",
       "      <td>0</td>\n",
       "    </tr>\n",
       "    <tr>\n",
       "      <th>4</th>\n",
       "      <td>15737888</td>\n",
       "      <td>850</td>\n",
       "      <td>0</td>\n",
       "      <td>43</td>\n",
       "      <td>2</td>\n",
       "      <td>125510.82</td>\n",
       "      <td>1</td>\n",
       "      <td>79084.10</td>\n",
       "      <td>0</td>\n",
       "    </tr>\n",
       "  </tbody>\n",
       "</table>\n",
       "</div>"
      ],
      "text/plain": [
       "         ID  Score  Sex  Age  Authority      Money  Product no  \\\n",
       "0  15634602    619    0   42          2       0.00           1   \n",
       "1  15647311    608    0   41          1   83807.86           1   \n",
       "2  15619304    502    0   42          8  159660.80           3   \n",
       "3  15701354    699    0   39          1       0.00           2   \n",
       "4  15737888    850    0   43          2  125510.82           1   \n",
       "\n",
       "   Balance (estimated)  Exited  \n",
       "0            101348.88       1  \n",
       "1            112542.58       0  \n",
       "2            113931.57       1  \n",
       "3             93826.63       0  \n",
       "4             79084.10       0  "
      ]
     },
     "execution_count": 2,
     "metadata": {},
     "output_type": "execute_result"
    }
   ],
   "source": [
    "# import data\n",
    "df = pd.read_csv('/kaggle/input/naive-bayes-gaussian/SP_II_MN.csv')\n",
    "\n",
    "df.head()"
   ]
  },
  {
   "cell_type": "code",
   "execution_count": 3,
   "id": "c8f10620",
   "metadata": {
    "execution": {
     "iopub.execute_input": "2023-12-25T19:15:16.357353Z",
     "iopub.status.busy": "2023-12-25T19:15:16.356496Z",
     "iopub.status.idle": "2023-12-25T19:15:16.372617Z",
     "shell.execute_reply": "2023-12-25T19:15:16.371455Z"
    },
    "papermill": {
     "duration": 0.025028,
     "end_time": "2023-12-25T19:15:16.375272",
     "exception": false,
     "start_time": "2023-12-25T19:15:16.350244",
     "status": "completed"
    },
    "tags": []
   },
   "outputs": [
    {
     "data": {
      "text/plain": [
       "Exited\n",
       "0    7963\n",
       "1    2037\n",
       "Name: count, dtype: int64"
      ]
     },
     "execution_count": 3,
     "metadata": {},
     "output_type": "execute_result"
    }
   ],
   "source": [
    "# check class balance\n",
    "df['Exited'].value_counts()"
   ]
  },
  {
   "cell_type": "code",
   "execution_count": 4,
   "id": "bce48bd2",
   "metadata": {
    "execution": {
     "iopub.execute_input": "2023-12-25T19:15:16.387279Z",
     "iopub.status.busy": "2023-12-25T19:15:16.386835Z",
     "iopub.status.idle": "2023-12-25T19:15:16.411825Z",
     "shell.execute_reply": "2023-12-25T19:15:16.410757Z"
    },
    "papermill": {
     "duration": 0.034378,
     "end_time": "2023-12-25T19:15:16.414850",
     "exception": false,
     "start_time": "2023-12-25T19:15:16.380472",
     "status": "completed"
    },
    "tags": []
   },
   "outputs": [
    {
     "data": {
      "text/html": [
       "<div>\n",
       "<style scoped>\n",
       "    .dataframe tbody tr th:only-of-type {\n",
       "        vertical-align: middle;\n",
       "    }\n",
       "\n",
       "    .dataframe tbody tr th {\n",
       "        vertical-align: top;\n",
       "    }\n",
       "\n",
       "    .dataframe thead th {\n",
       "        text-align: right;\n",
       "    }\n",
       "</style>\n",
       "<table border=\"1\" class=\"dataframe\">\n",
       "  <thead>\n",
       "    <tr style=\"text-align: right;\">\n",
       "      <th></th>\n",
       "      <th>Score</th>\n",
       "      <th>Sex</th>\n",
       "      <th>Money</th>\n",
       "      <th>Product no</th>\n",
       "      <th>Balance (estimated)</th>\n",
       "      <th>Exited</th>\n",
       "      <th>Loyalty</th>\n",
       "    </tr>\n",
       "  </thead>\n",
       "  <tbody>\n",
       "    <tr>\n",
       "      <th>0</th>\n",
       "      <td>619</td>\n",
       "      <td>0</td>\n",
       "      <td>0.00</td>\n",
       "      <td>1</td>\n",
       "      <td>101348.88</td>\n",
       "      <td>1</td>\n",
       "      <td>0.047619</td>\n",
       "    </tr>\n",
       "    <tr>\n",
       "      <th>1</th>\n",
       "      <td>608</td>\n",
       "      <td>0</td>\n",
       "      <td>83807.86</td>\n",
       "      <td>1</td>\n",
       "      <td>112542.58</td>\n",
       "      <td>0</td>\n",
       "      <td>0.024390</td>\n",
       "    </tr>\n",
       "    <tr>\n",
       "      <th>2</th>\n",
       "      <td>502</td>\n",
       "      <td>0</td>\n",
       "      <td>159660.80</td>\n",
       "      <td>3</td>\n",
       "      <td>113931.57</td>\n",
       "      <td>1</td>\n",
       "      <td>0.190476</td>\n",
       "    </tr>\n",
       "    <tr>\n",
       "      <th>3</th>\n",
       "      <td>699</td>\n",
       "      <td>0</td>\n",
       "      <td>0.00</td>\n",
       "      <td>2</td>\n",
       "      <td>93826.63</td>\n",
       "      <td>0</td>\n",
       "      <td>0.025641</td>\n",
       "    </tr>\n",
       "    <tr>\n",
       "      <th>4</th>\n",
       "      <td>850</td>\n",
       "      <td>0</td>\n",
       "      <td>125510.82</td>\n",
       "      <td>1</td>\n",
       "      <td>79084.10</td>\n",
       "      <td>0</td>\n",
       "      <td>0.046512</td>\n",
       "    </tr>\n",
       "  </tbody>\n",
       "</table>\n",
       "</div>"
      ],
      "text/plain": [
       "   Score  Sex      Money  Product no  Balance (estimated)  Exited   Loyalty\n",
       "0    619    0       0.00           1            101348.88       1  0.047619\n",
       "1    608    0   83807.86           1            112542.58       0  0.024390\n",
       "2    502    0  159660.80           3            113931.57       1  0.190476\n",
       "3    699    0       0.00           2             93826.63       0  0.025641\n",
       "4    850    0  125510.82           1             79084.10       0  0.046512"
      ]
     },
     "execution_count": 4,
     "metadata": {},
     "output_type": "execute_result"
    }
   ],
   "source": [
    "# Exploratory data Analysis\n",
    "df['Loyalty'] = df['Authority'] / df['Age']\n",
    "df.drop(['ID', 'Age', 'Authority'], axis=1, inplace=True)\n",
    "df.head()"
   ]
  },
  {
   "cell_type": "code",
   "execution_count": 5,
   "id": "63095119",
   "metadata": {
    "execution": {
     "iopub.execute_input": "2023-12-25T19:15:16.429371Z",
     "iopub.status.busy": "2023-12-25T19:15:16.428469Z",
     "iopub.status.idle": "2023-12-25T19:15:16.445675Z",
     "shell.execute_reply": "2023-12-25T19:15:16.444580Z"
    },
    "papermill": {
     "duration": 0.026726,
     "end_time": "2023-12-25T19:15:16.448123",
     "exception": false,
     "start_time": "2023-12-25T19:15:16.421397",
     "status": "completed"
    },
    "tags": []
   },
   "outputs": [],
   "source": [
    "# Split Data\n",
    "Y = df['Exited']\n",
    "X = df.copy()\n",
    "X = X.drop('Exited', axis=1)\n",
    "\n",
    "X_train, X_test, Y_train, Y_test = train_test_split(X, Y, test_size=0.25, stratify=Y, random_state=42)"
   ]
  },
  {
   "cell_type": "code",
   "execution_count": 6,
   "id": "2f2d6a24",
   "metadata": {
    "execution": {
     "iopub.execute_input": "2023-12-25T19:15:16.461065Z",
     "iopub.status.busy": "2023-12-25T19:15:16.460646Z",
     "iopub.status.idle": "2023-12-25T19:15:16.473035Z",
     "shell.execute_reply": "2023-12-25T19:15:16.471950Z"
    },
    "papermill": {
     "duration": 0.022006,
     "end_time": "2023-12-25T19:15:16.475649",
     "exception": false,
     "start_time": "2023-12-25T19:15:16.453643",
     "status": "completed"
    },
    "tags": []
   },
   "outputs": [],
   "source": [
    "# Scale the model due to Prediction, Recall and F1 score being ill defined\n",
    "from sklearn.preprocessing import MinMaxScaler\n",
    "scaler = MinMaxScaler()\n",
    "scaler.fit(X_train)\n",
    "X_train = scaler.transform(X_train)\n",
    "X_test = scaler.transform(X_test)"
   ]
  },
  {
   "cell_type": "code",
   "execution_count": 7,
   "id": "aec4c126",
   "metadata": {
    "execution": {
     "iopub.execute_input": "2023-12-25T19:15:16.487981Z",
     "iopub.status.busy": "2023-12-25T19:15:16.487558Z",
     "iopub.status.idle": "2023-12-25T19:15:16.499005Z",
     "shell.execute_reply": "2023-12-25T19:15:16.497849Z"
    },
    "papermill": {
     "duration": 0.02088,
     "end_time": "2023-12-25T19:15:16.501921",
     "exception": false,
     "start_time": "2023-12-25T19:15:16.481041",
     "status": "completed"
    },
    "tags": []
   },
   "outputs": [],
   "source": [
    "# Build Model\n",
    "gnb = GaussianNB()\n",
    "gnb.fit(X_train, Y_train)\n",
    "Y_pred = gnb.predict(X_test)"
   ]
  },
  {
   "cell_type": "code",
   "execution_count": 8,
   "id": "03b47b2f",
   "metadata": {
    "execution": {
     "iopub.execute_input": "2023-12-25T19:15:16.514535Z",
     "iopub.status.busy": "2023-12-25T19:15:16.513701Z",
     "iopub.status.idle": "2023-12-25T19:15:16.531960Z",
     "shell.execute_reply": "2023-12-25T19:15:16.530793Z"
    },
    "papermill": {
     "duration": 0.027385,
     "end_time": "2023-12-25T19:15:16.534560",
     "exception": false,
     "start_time": "2023-12-25T19:15:16.507175",
     "status": "completed"
    },
    "tags": []
   },
   "outputs": [
    {
     "name": "stdout",
     "output_type": "stream",
     "text": [
      "Accuracy: 0.820\n",
      "Precision: 0.941\n",
      "Recall: 0.126\n",
      "F1 score: 0.222\n"
     ]
    }
   ],
   "source": [
    "# Evaluation metrics of the model\n",
    "\n",
    "print('Accuracy:', '%.3f' % accuracy_score(Y_test, Y_pred))\n",
    "print('Precision:', '%.3f' % precision_score(Y_test, Y_pred))\n",
    "print('Recall:', '%.3f' % recall_score(Y_test, Y_pred))\n",
    "print('F1 score:', '%.3f' % f1_score(Y_test, Y_pred))"
   ]
  },
  {
   "cell_type": "code",
   "execution_count": 9,
   "id": "189961a4",
   "metadata": {
    "execution": {
     "iopub.execute_input": "2023-12-25T19:15:16.547071Z",
     "iopub.status.busy": "2023-12-25T19:15:16.546661Z",
     "iopub.status.idle": "2023-12-25T19:15:16.959085Z",
     "shell.execute_reply": "2023-12-25T19:15:16.958131Z"
    },
    "papermill": {
     "duration": 0.421383,
     "end_time": "2023-12-25T19:15:16.961326",
     "exception": false,
     "start_time": "2023-12-25T19:15:16.539943",
     "status": "completed"
    },
    "tags": []
   },
   "outputs": [
    {
     "data": {
      "image/png": "[encoded data removed]",
      "text/plain": [
       "<Figure size 640x480 with 2 Axes>"
      ]
     },
     "metadata": {},
     "output_type": "display_data"
    }
   ],
   "source": [
    "# Confusion matrix\n",
    "\n",
    "import matplotlib.pyplot as plt\n",
    "\n",
    "def conf_matrix_plot(model, X_data, Y_data):\n",
    "    model_pred = model.predict(X_data)\n",
    "    cm = confusion_matrix(Y_data, model_pred, labels=model.classes_)\n",
    "    disp = ConfusionMatrixDisplay(confusion_matrix=cm, display_labels=model.classes_)\n",
    "    \n",
    "    disp.plot()\n",
    "    plt.show()\n",
    "    \n",
    "conf_matrix_plot(gnb, X_test, Y_test)\n",
    "    "
   ]
  }
 ],
 "metadata": {
  "kaggle": {
   "accelerator": "none",
   "dataSources": [
    {
     "datasetId": 1270957,
     "sourceId": 2118219,
     "sourceType": "datasetVersion"
    }
   ],
   "dockerImageVersionId": 30626,
   "isGpuEnabled": false,
   "isInternetEnabled": true,
   "language": "python",
   "sourceType": "notebook"
  },
  "kernelspec": {
   "display_name": "Python 3",
   "language": "python",
   "name": "python3"
  },
  "language_info": {
   "codemirror_mode": {
    "name": "ipython",
    "version": 3
   },
   "file_extension": ".py",
   "mimetype": "text/x-python",
   "name": "python",
   "nbconvert_exporter": "python",
   "pygments_lexer": "ipython3",
   "version": "3.10.12"
  },
  "papermill": {
   "default_parameters": {},
   "duration": 8.742278,
   "end_time": "2023-12-25T19:15:17.590469",
   "environment_variables": {},
   "exception": null,
   "input_path": "__notebook__.ipynb",
   "output_path": "__notebook__.ipynb",
   "parameters": {},
   "start_time": "2023-12-25T19:15:08.848191",
   "version": "2.4.0"
  }
 },
 "nbformat": 4,
 "nbformat_minor": 5
}
